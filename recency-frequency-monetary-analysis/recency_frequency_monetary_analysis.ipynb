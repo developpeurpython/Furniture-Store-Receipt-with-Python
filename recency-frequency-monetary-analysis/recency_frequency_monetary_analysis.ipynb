{
  "nbformat": 4,
  "nbformat_minor": 0,
  "metadata": {
    "colab": {
      "provenance": [],
      "authorship_tag": "ABX9TyPa7WuwFnmi6I4+F/wDnvzi"
    },
    "kernelspec": {
      "name": "python3",
      "display_name": "Python 3"
    },
    "language_info": {
      "name": "python"
    }
  },
  "cells": [
    {
      "cell_type": "markdown",
      "source": [
        "# **1. Import the necessary libraries, load the dataset, and prepare the data for analysis**"
      ],
      "metadata": {
        "id": "sOszqKV0peQA"
      }
    },
    {
      "cell_type": "code",
      "execution_count": 1,
      "metadata": {
        "id": "14IhnfnhgQYZ"
      },
      "outputs": [],
      "source": [
        "# Import necessary libraries\n",
        "import pandas as pd\n",
        "import datetime as dt\n",
        "import numpy as np\n",
        "import matplotlib.pyplot as plt"
      ]
    },
    {
      "cell_type": "code",
      "source": [
        "# Read the data\n",
        "df = pd.read_csv('Retail_Data_Transactions.csv', parse_dates=['trans_date'])"
      ],
      "metadata": {
        "id": "I1EnmqDQiB11"
      },
      "execution_count": 2,
      "outputs": []
    },
    {
      "cell_type": "code",
      "source": [
        "# Identify the time range studied\n",
        "print(df['trans_date'].min(), df['trans_date'].max())"
      ],
      "metadata": {
        "colab": {
          "base_uri": "https://localhost:8080/"
        },
        "id": "DslCMThmjHNg",
        "outputId": "3583da52-88ac-4297-c729-fe147e4965e7"
      },
      "execution_count": 3,
      "outputs": [
        {
          "output_type": "stream",
          "name": "stdout",
          "text": [
            "2011-05-16 00:00:00 2015-03-16 00:00:00\n"
          ]
        }
      ]
    },
    {
      "cell_type": "code",
      "source": [
        "# Calculate the number of days between the study date and each transaction date\n",
        "sd = dt.datetime(2015,4,1)\n",
        "df['hist'] = sd - df['trans_date']\n",
        "df['hist'].astype('timedelta64[D]')\n",
        "df['hist'] = df['hist'] / np.timedelta64(1, 'D')"
      ],
      "metadata": {
        "id": "9axZNVZVjM5Z"
      },
      "execution_count": 4,
      "outputs": []
    },
    {
      "cell_type": "code",
      "source": [
        "# Filter the dataset to only consider transactions from the last 2 years\n",
        "df = df[df['hist'] < 730]"
      ],
      "metadata": {
        "id": "KQ_vlblsjktA"
      },
      "execution_count": 5,
      "outputs": []
    },
    {
      "cell_type": "markdown",
      "source": [
        "# **2. RFM Analysis**"
      ],
      "metadata": {
        "id": "J9AG_HaxsFPH"
      }
    },
    {
      "cell_type": "code",
      "source": [
        "# Calculate recency, frequency, and monetary value for each customer\n",
        "rfmTable = df.groupby('customer_id').agg({'hist': lambda x:x.min(), # Recency\n",
        "                                        'customer_id': lambda x: len(x),               # Frequency\n",
        "                                        'tran_amount': lambda x: x.sum()})          # Monetary Value\n",
        "\n",
        "rfmTable.rename(columns={'hist': 'recency', \n",
        "                         'customer_id': 'frequency', \n",
        "                         'tran_amount': 'monetary_value'}, inplace=True)"
      ],
      "metadata": {
        "id": "0uOCuM5MlSfA"
      },
      "execution_count": 6,
      "outputs": []
    },
    {
      "cell_type": "code",
      "source": [
        "# Categorize customers based on quartiles\n",
        "quartiles = rfmTable.quantile(q=[0.25,0.50,0.75])\n",
        "quartiles = quartiles.to_dict()\n",
        "\n",
        "def RClass(x,p,d):\n",
        "    if x <= d[p][0.25]:\n",
        "        return 1\n",
        "    elif x <= d[p][0.50]:\n",
        "        return 2\n",
        "    elif x <= d[p][0.75]: \n",
        "        return 3\n",
        "    else:\n",
        "        return 4\n",
        "    \n",
        "def FMClass(x,p,d):\n",
        "    if x <= d[p][0.25]:\n",
        "        return 4\n",
        "    elif x <= d[p][0.50]:\n",
        "        return 3\n",
        "    elif x <= d[p][0.75]: \n",
        "        return 2\n",
        "    else:\n",
        "        return 1\n",
        "\n",
        "rfmSeg = rfmTable\n",
        "rfmSeg['R_Quartile'] = rfmSeg['recency'].apply(RClass, args=('recency',quartiles,))\n",
        "rfmSeg['F_Quartile'] = rfmSeg['frequency'].apply(FMClass, args=('frequency',quartiles,))\n",
        "rfmSeg['M_Quartile'] = rfmSeg['monetary_value'].apply(FMClass, args=('monetary_value',quartiles,))\n",
        "\n",
        "# Create a combined score for each customer\n",
        "rfmSeg['RFMClass'] = rfmSeg.R_Quartile.map(str) + rfmSeg.F_Quartile.map(str) + rfmSeg.M_Quartile.map(str)\n",
        "rfmSeg.sort_values(by=['RFMClass', 'monetary_value'], ascending=[True, False])\n",
        "\n",
        "rfmSeg['Total Score'] = rfmSeg['R_Quartile'] + rfmSeg['F_Quartile'] +rfmSeg['M_Quartile']"
      ],
      "metadata": {
        "id": "-UGFUrvLlZAX"
      },
      "execution_count": 7,
      "outputs": []
    },
    {
      "cell_type": "code",
      "source": [
        "# Analyze the impact of RFM analysis on customer response to a promotional campaign\n",
        "res = pd.read_csv('Retail_Data_Response.csv')\n",
        "res.sort_values('customer_id', inplace=True)\n",
        "rfmSeg.reset_index(inplace=True)\n",
        "rfmSeg.sort_values('customer_id', inplace=True)\n",
        "rfm2=pd.merge(rfmSeg, res, on='customer_id')"
      ],
      "metadata": {
        "id": "_k_acb10lcqH"
      },
      "execution_count": 8,
      "outputs": []
    },
    {
      "cell_type": "markdown",
      "source": [
        "# **3. Data Visualization**"
      ],
      "metadata": {
        "id": "RcvQdYFasZAe"
      }
    },
    {
      "cell_type": "code",
      "source": [
        "# Plot the proportion of responders for each score\n",
        "ax = rfm2.groupby('Total Score').agg('response').mean().plot(kind='bar', colormap='RdYlGn')\n",
        "ax.set_xlabel(\"Total Score\")\n",
        "ax.set_ylabel(\"Proportion of Responders\")\n",
        "ax.set_title(\"Proportion of Responders by RFM Score\")\n",
        "\n",
        "# Add data labels to the bars\n",
        "for i in ax.patches:\n",
        "    ax.annotate(str(round(i.get_height(), 2)), (i.get_x(), i.get_height()))\n",
        "\n",
        "# Rotate x-axis labels\n",
        "plt.xticks(rotation=0)\n",
        "\n",
        "# Adjust figure size\n",
        "fig = plt.gcf()\n",
        "fig.set_size_inches(10, 6)\n",
        "\n",
        "# Display the chart\n",
        "plt.show()"
      ],
      "metadata": {
        "colab": {
          "base_uri": "https://localhost:8080/",
          "height": 564
        },
        "id": "dlOjQTrqlojs",
        "outputId": "4ed434ab-a149-4587-a651-68267e97167c"
      },
      "execution_count": 9,
      "outputs": [
        {
          "output_type": "display_data",
          "data": {
            "text/plain": [
              "<Figure size 1000x600 with 1 Axes>"
            ],
            "image/png": "[encoded data removed]"
          },
          "metadata": {}
        }
      ]
    }
  ]
}