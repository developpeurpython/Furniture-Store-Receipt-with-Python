{
  "nbformat": 4,
  "nbformat_minor": 0,
  "metadata": {
    "colab": {
      "provenance": [],
      "authorship_tag": "ABX9TyMi0nBX+skq84cQ1VuUdVnS"
    },
    "kernelspec": {
      "name": "python3",
      "display_name": "Python 3"
    },
    "language_info": {
      "name": "python"
    }
  },
  "cells": [
    {
      "cell_type": "markdown",
      "source": [
        "# **1. Import Libraries**"
      ],
      "metadata": {
        "id": "ifU1LPlVyG_g"
      }
    },
    {
      "cell_type": "code",
      "source": [
        "# Import required libraries\n",
        "import pandas as pd\n",
        "from sklearn.metrics.pairwise import cosine_similarity\n",
        "from sklearn.feature_extraction.text import CountVectorizer\n",
        "from sklearn.feature_extraction.text import TfidfVectorizer"
      ],
      "metadata": {
        "id": "rNLMimnSpmkg"
      },
      "execution_count": 1,
      "outputs": []
    },
    {
      "cell_type": "markdown",
      "source": [
        "# **2. Load and Explore Dataset**"
      ],
      "metadata": {
        "id": "KwjjRn3cyYvs"
      }
    },
    {
      "cell_type": "code",
      "source": [
        "# Load the News.csv file into a Pandas DataFrame\n",
        "df = pd.read_csv('News.csv')"
      ],
      "metadata": {
        "id": "_ebHsEiIppMb"
      },
      "execution_count": 2,
      "outputs": []
    },
    {
      "cell_type": "code",
      "source": [
        "# Read the News.csv file into a Pandas DataFrame\n",
        "df = pd.read_csv('News.csv')\n",
        "\n",
        "# Print the first 5 rows of the dataset\n",
        "print(df.head())"
      ],
      "metadata": {
        "colab": {
          "base_uri": "https://localhost:8080/"
        },
        "id": "Md6TVecGqMLi",
        "outputId": "3692bc0a-f153-41fb-e27f-5e3426e0b2df"
      },
      "execution_count": 3,
      "outputs": [
        {
          "output_type": "stream",
          "name": "stdout",
          "text": [
            "       ID News Category                                              Title  \\\n",
            "0  N88753     lifestyle  The Brands Queen Elizabeth, Prince Charles, an...   \n",
            "1  N45436          news    Walmart Slashes Prices on Last-Generation iPads   \n",
            "2  N23144        health                      50 Worst Habits For Belly Fat   \n",
            "3  N86255        health  Dispose of unwanted prescription drugs during ...   \n",
            "4  N93187          news  The Cost of Trump's Aid Freeze in the Trenches...   \n",
            "\n",
            "                                             Summary  \n",
            "0  Shop the notebooks, jackets, and more that the...  \n",
            "1  Apple's new iPad releases bring big deals on l...  \n",
            "2  These seemingly harmless habits are holding yo...  \n",
            "3                                                NaN  \n",
            "4  Lt. Ivan Molchanets peeked over a parapet of s...  \n"
          ]
        }
      ]
    },
    {
      "cell_type": "code",
      "source": [
        "# Get the shape of the dataset (number of rows, number of columns)\n",
        "print(\"Shape of dataset: {} rows, {} columns\".format(df.shape[0], df.shape[1]))\n",
        "\n",
        "# Get the column names\n",
        "print(\"Column names:\\n{}\".format(', '.join(df.columns.tolist())))\n",
        "\n",
        "# Get information about the dataset\n",
        "print(\"\\nInformation about the dataset:\")\n",
        "print(df.info())"
      ],
      "metadata": {
        "colab": {
          "base_uri": "https://localhost:8080/"
        },
        "id": "jg7wqXxarNeZ",
        "outputId": "3993a775-7469-4124-c3f3-6aa7c3aada68"
      },
      "execution_count": 4,
      "outputs": [
        {
          "output_type": "stream",
          "name": "stdout",
          "text": [
            "Shape of dataset: 32409 rows, 4 columns\n",
            "Column names:\n",
            "ID, News Category, Title, Summary\n",
            "\n",
            "Information about the dataset:\n",
            "<class 'pandas.core.frame.DataFrame'>\n",
            "RangeIndex: 32409 entries, 0 to 32408\n",
            "Data columns (total 4 columns):\n",
            " #   Column         Non-Null Count  Dtype \n",
            "---  ------         --------------  ----- \n",
            " 0   ID             32409 non-null  object\n",
            " 1   News Category  32409 non-null  object\n",
            " 2   Title          32409 non-null  object\n",
            " 3   Summary        30847 non-null  object\n",
            "dtypes: object(4)\n",
            "memory usage: 1012.9+ KB\n",
            "None\n"
          ]
        }
      ]
    },
    {
      "cell_type": "markdown",
      "source": [
        "# **3. Data Preprocessing**"
      ],
      "metadata": {
        "id": "Jsx6-W-7z-Xk"
      }
    },
    {
      "cell_type": "code",
      "source": [
        "# Check for missing values\n",
        "missing_values_count = df.isnull().sum()\n",
        "\n",
        "# Print the number of missing values in each column\n",
        "print(missing_values_count)"
      ],
      "metadata": {
        "colab": {
          "base_uri": "https://localhost:8080/"
        },
        "id": "ofFtmk2GqWAA",
        "outputId": "109efe69-695b-437e-aeb4-40c18b96f1bd"
      },
      "execution_count": 5,
      "outputs": [
        {
          "output_type": "stream",
          "name": "stdout",
          "text": [
            "ID                  0\n",
            "News Category       0\n",
            "Title               0\n",
            "Summary          1562\n",
            "dtype: int64\n"
          ]
        }
      ]
    },
    {
      "cell_type": "code",
      "source": [
        "# Drop rows with missing values in the 'text' column\n",
        "df.dropna(subset=df.columns, how='any', inplace=True)\n",
        "\n",
        "# Print the first 5 rows of the dataset after removing missing values\n",
        "print(df.head())"
      ],
      "metadata": {
        "colab": {
          "base_uri": "https://localhost:8080/"
        },
        "id": "_u7FBOwaqb8V",
        "outputId": "ab71876d-4978-4ec1-afb6-c9200c490317"
      },
      "execution_count": 6,
      "outputs": [
        {
          "output_type": "stream",
          "name": "stdout",
          "text": [
            "       ID News Category                                              Title  \\\n",
            "0  N88753     lifestyle  The Brands Queen Elizabeth, Prince Charles, an...   \n",
            "1  N45436          news    Walmart Slashes Prices on Last-Generation iPads   \n",
            "2  N23144        health                      50 Worst Habits For Belly Fat   \n",
            "4  N93187          news  The Cost of Trump's Aid Freeze in the Trenches...   \n",
            "5  N75236        health  I Was An NBA Wife. Here's How It Affected My M...   \n",
            "\n",
            "                                             Summary  \n",
            "0  Shop the notebooks, jackets, and more that the...  \n",
            "1  Apple's new iPad releases bring big deals on l...  \n",
            "2  These seemingly harmless habits are holding yo...  \n",
            "4  Lt. Ivan Molchanets peeked over a parapet of s...  \n",
            "5  I felt like I was a fraud, and being an NBA wi...  \n"
          ]
        }
      ]
    },
    {
      "cell_type": "markdown",
      "source": [
        "# **4. Calculate TF-IDF and Cosine Similarity**"
      ],
      "metadata": {
        "id": "dAjXGTxG3_IF"
      }
    },
    {
      "cell_type": "code",
      "source": [
        "# Create a TfidfVectorizer object to calculate the TF-IDF scores for the article titles\n",
        "vectorizer = TfidfVectorizer(stop_words='english')\n",
        "title_matrix = vectorizer.fit_transform(df['Title'])"
      ],
      "metadata": {
        "id": "ESmF71q_rA8p"
      },
      "execution_count": 7,
      "outputs": []
    },
    {
      "cell_type": "code",
      "source": [
        "# Calculate the cosine similarity matrix between all pairs of article titles\n",
        "title_similarity_matrix = cosine_similarity(title_matrix)"
      ],
      "metadata": {
        "id": "gTbejExbun9f"
      },
      "execution_count": 8,
      "outputs": []
    },
    {
      "cell_type": "markdown",
      "source": [
        "# **5. Define Article Recommendation Function**"
      ],
      "metadata": {
        "id": "UDoCqqZL5KPL"
      }
    },
    {
      "cell_type": "code",
      "source": [
        "# Define a function to recommend articles based on a given article title\n",
        "def recommend_articles(article_title, num_articles=5):\n",
        "    # Find the index of the given article title in the DataFrame\n",
        "    index = df[df['Title'] == article_title].index[0]\n",
        "    \n",
        "    # Calculate the cosine similarity scores between the given article and all other articles\n",
        "    similarity_scores = list(enumerate(title_similarity_matrix[index]))\n",
        "    \n",
        "    # Sort the list of similarity scores in descending order\n",
        "    similarity_scores = sorted(similarity_scores, key=lambda x: x[1], reverse=True)\n",
        "    \n",
        "    # Select the top N articles with the highest similarity scores\n",
        "    top_article_indices = [i[0] for i in similarity_scores[1:num_articles+1]]\n",
        "    \n",
        "    # Return the titles of the recommended articles\n",
        "    return df['Title'].iloc[top_article_indices]"
      ],
      "metadata": {
        "id": "gmCWvPymuvdl"
      },
      "execution_count": 9,
      "outputs": []
    },
    {
      "cell_type": "markdown",
      "source": [
        "# **6. Test Article Recommendation Function**"
      ],
      "metadata": {
        "id": "DXtSxVOX5VVQ"
      }
    },
    {
      "cell_type": "code",
      "source": [
        "recommended_articles = recommend_articles('50 Worst Habits For Belly Fat')\n",
        "print(recommended_articles)"
      ],
      "metadata": {
        "colab": {
          "base_uri": "https://localhost:8080/"
        },
        "id": "XRR7BIvUuybD",
        "outputId": "91cd8e08-9330-4fe7-8eb3-4e5a52ae1fde"
      },
      "execution_count": 10,
      "outputs": [
        {
          "output_type": "stream",
          "name": "stdout",
          "text": [
            "304      Those Grueling Workouts May Not Help You Lose ...\n",
            "14161              10 Ways to Burn Belly Fat in 10 Minutes\n",
            "9463     If You Can't Seem to Lose Belly Fat, Experts A...\n",
            "14619    I Used to Obsess About My Belly Fat, Until I S...\n",
            "32225    3 Foods You Should Eat at Breakfast If You Wan...\n",
            "Name: Title, dtype: object\n"
          ]
        }
      ]
    }
  ]
}