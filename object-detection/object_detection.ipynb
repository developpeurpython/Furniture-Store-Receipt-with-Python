{
  "cells": [
    {
      "cell_type": "markdown",
      "source": [
        "# **1. This code installs cvlib, opencv-python-headless, and matplotlib packages.**"
      ],
      "metadata": {
        "id": "qvbqRHdNh7P9"
      }
    },
    {
      "cell_type": "code",
      "execution_count": 4,
      "metadata": {
        "colab": {
          "base_uri": "https://localhost:8080/"
        },
        "id": "R_qg-tWH-YBx",
        "outputId": "07edce65-4d0d-48b7-e642-2689030fa50d"
      },
      "outputs": [
        {
          "output_type": "stream",
          "name": "stdout",
          "text": [
            "Looking in indexes: https://pypi.org/simple, https://us-python.pkg.dev/colab-wheels/public/simple/\n",
            "Requirement already satisfied: cvlib in /usr/local/lib/python3.9/dist-packages (0.2.7)\n",
            "Requirement already satisfied: numpy in /usr/local/lib/python3.9/dist-packages (from cvlib) (1.22.4)\n",
            "Requirement already satisfied: progressbar in /usr/local/lib/python3.9/dist-packages (from cvlib) (2.5)\n",
            "Requirement already satisfied: pillow in /usr/local/lib/python3.9/dist-packages (from cvlib) (8.4.0)\n",
            "Requirement already satisfied: imageio in /usr/local/lib/python3.9/dist-packages (from cvlib) (2.25.1)\n",
            "Requirement already satisfied: imutils in /usr/local/lib/python3.9/dist-packages (from cvlib) (0.5.4)\n",
            "Requirement already satisfied: requests in /usr/local/lib/python3.9/dist-packages (from cvlib) (2.27.1)\n",
            "Requirement already satisfied: certifi>=2017.4.17 in /usr/local/lib/python3.9/dist-packages (from requests->cvlib) (2022.12.7)\n",
            "Requirement already satisfied: charset-normalizer~=2.0.0 in /usr/local/lib/python3.9/dist-packages (from requests->cvlib) (2.0.12)\n",
            "Requirement already satisfied: urllib3<1.27,>=1.21.1 in /usr/local/lib/python3.9/dist-packages (from requests->cvlib) (1.26.15)\n",
            "Requirement already satisfied: idna<4,>=2.5 in /usr/local/lib/python3.9/dist-packages (from requests->cvlib) (3.4)\n",
            "Looking in indexes: https://pypi.org/simple, https://us-python.pkg.dev/colab-wheels/public/simple/\n",
            "Requirement already satisfied: opencv-python-headless in /usr/local/lib/python3.9/dist-packages (4.7.0.72)\n",
            "Requirement already satisfied: numpy>=1.19.3 in /usr/local/lib/python3.9/dist-packages (from opencv-python-headless) (1.22.4)\n",
            "Looking in indexes: https://pypi.org/simple, https://us-python.pkg.dev/colab-wheels/public/simple/\n",
            "Requirement already satisfied: matplotlib in /usr/local/lib/python3.9/dist-packages (3.7.1)\n",
            "Requirement already satisfied: importlib-resources>=3.2.0 in /usr/local/lib/python3.9/dist-packages (from matplotlib) (5.12.0)\n",
            "Requirement already satisfied: pillow>=6.2.0 in /usr/local/lib/python3.9/dist-packages (from matplotlib) (8.4.0)\n",
            "Requirement already satisfied: python-dateutil>=2.7 in /usr/local/lib/python3.9/dist-packages (from matplotlib) (2.8.2)\n",
            "Requirement already satisfied: pyparsing>=2.3.1 in /usr/local/lib/python3.9/dist-packages (from matplotlib) (3.0.9)\n",
            "Requirement already satisfied: fonttools>=4.22.0 in /usr/local/lib/python3.9/dist-packages (from matplotlib) (4.39.3)\n",
            "Requirement already satisfied: kiwisolver>=1.0.1 in /usr/local/lib/python3.9/dist-packages (from matplotlib) (1.4.4)\n",
            "Requirement already satisfied: packaging>=20.0 in /usr/local/lib/python3.9/dist-packages (from matplotlib) (23.0)\n",
            "Requirement already satisfied: numpy>=1.20 in /usr/local/lib/python3.9/dist-packages (from matplotlib) (1.22.4)\n",
            "Requirement already satisfied: cycler>=0.10 in /usr/local/lib/python3.9/dist-packages (from matplotlib) (0.11.0)\n",
            "Requirement already satisfied: contourpy>=1.0.1 in /usr/local/lib/python3.9/dist-packages (from matplotlib) (1.0.7)\n",
            "Requirement already satisfied: zipp>=3.1.0 in /usr/local/lib/python3.9/dist-packages (from importlib-resources>=3.2.0->matplotlib) (3.15.0)\n",
            "Requirement already satisfied: six>=1.5 in /usr/local/lib/python3.9/dist-packages (from python-dateutil>=2.7->matplotlib) (1.16.0)\n"
          ]
        }
      ],
      "source": [
        "!pip install cvlib\n",
        "!pip install opencv-python-headless\n",
        "!pip install matplotlib"
      ]
    },
    {
      "cell_type": "markdown",
      "source": [
        "# **2. Code for object detection using cvlib and displaying results using matplotlib.**"
      ],
      "metadata": {
        "id": "W-mC0Q0siYed"
      }
    },
    {
      "cell_type": "code",
      "execution_count": null,
      "metadata": {
        "id": "txjY0PEWXWl1"
      },
      "outputs": [],
      "source": [
        "import cv2\n",
        "import numpy as np\n",
        "import matplotlib.pyplot as plt\n",
        "import cvlib as cv\n",
        "from cvlib.object_detection import draw_bbox\n",
        "\n",
        "# Load image\n",
        "image = cv2.imread(\"cars.jpg\")\n",
        "\n",
        "# Check if image is loaded successfully\n",
        "if image is None:\n",
        "    print(\"Could not read input image\")\n",
        "else:\n",
        "    # Detect objects in the image with a confidence level of 0.5 using Faster R-CNN\n",
        "    bbox, label, conf = cv.detect_common_objects(image, model='faster_rcnn', confidence=0.5)\n",
        "\n",
        "    # Create a copy of the original image to draw rectangles and apply effect of highlight\n",
        "    highlighted_image = np.copy(image)\n",
        "\n",
        "    # Draw rectangles around the detected objects using draw_bbox() function\n",
        "    output = draw_bbox(highlighted_image, bbox, label, conf)\n",
        "\n",
        "    # Create a figure to display the original image and image with detected objects\n",
        "    fig, ax = plt.subplots(1, 2, figsize=(12, 6))\n",
        "\n",
        "    ax[0].imshow(cv2.cvtColor(image, cv2.COLOR_BGR2RGB))\n",
        "    ax[0].set_title(\"Original Image\", fontsize=14, color=\"blue\", fontweight=\"bold\", pad=10)\n",
        "    ax[0].set_xticks([])\n",
        "    ax[0].set_yticks([])\n",
        "    ax[0].spines['top'].set_visible(False)\n",
        "    ax[0].spines['right'].set_visible(False)\n",
        "    ax[0].spines['bottom'].set_visible(False)\n",
        "    ax[0].spines['left'].set_visible(False)\n",
        "\n",
        "    ax[1].imshow(cv2.cvtColor(output, cv2.COLOR_BGR2RGB))\n",
        "    ax[1].set_title(\"Detected Cars (\" + str(label.count('car')) + \")\", fontsize=14, color=\"blue\", fontweight=\"bold\", pad=10)\n",
        "    ax[1].set_xticks([])\n",
        "    ax[1].set_yticks([])\n",
        "    ax[1].spines['top'].set_visible(False)\n",
        "    ax[1].spines['right'].set_visible(False)\n",
        "    ax[1].spines['bottom'].set_visible(False)\n",
        "    ax[1].spines['left'].set_visible(False)\n",
        "\n",
        "    # Adjust subplot parameters to give space for title\n",
        "    plt.subplots_adjust(top=0.85, bottom=0.15)\n",
        "\n",
        "    # Display the figure with a border and legend\n",
        "    fig.suptitle(\"Car Detection using Faster R-CNN\", fontsize=20, color=\"blue\", fontweight=\"bold\", y=0.98)\n",
        "    fig.patch.set_edgecolor('black')\n",
        "    fig.patch.set_linewidth(2)\n",
        "\n",
        "    # Show the figure\n",
        "    plt.show()"
      ]
    }
  ],
  "metadata": {
    "colab": {
      "provenance": [],
      "authorship_tag": "ABX9TyMcO11RNXIRJxHMMu9yMNyJ"
    },
    "kernelspec": {
      "display_name": "Python 3",
      "name": "python3"
    },
    "language_info": {
      "name": "python"
    }
  },
  "nbformat": 4,
  "nbformat_minor": 0
}