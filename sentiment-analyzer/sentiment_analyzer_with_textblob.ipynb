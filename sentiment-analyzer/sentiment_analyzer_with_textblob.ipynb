{
  "nbformat": 4,
  "nbformat_minor": 0,
  "metadata": {
    "colab": {
      "provenance": [],
      "authorship_tag": "ABX9TyMgqSjPnzEetKksazw2jk6b"
    },
    "kernelspec": {
      "name": "python3",
      "display_name": "Python 3"
    },
    "language_info": {
      "name": "python"
    }
  },
  "cells": [
    {
      "cell_type": "markdown",
      "source": [
        "# **1. Installing packages and importing libraries**"
      ],
      "metadata": {
        "id": "DPWXStxOQqkk"
      }
    },
    {
      "cell_type": "code",
      "source": [
        "!pip install textblob\n",
        "!pip install textblob-fr\n",
        "\n",
        "from textblob import TextBlob\n",
        "from textblob_fr import PatternTagger, PatternAnalyzer"
      ],
      "metadata": {
        "id": "ARxhta-cQjhm",
        "colab": {
          "base_uri": "https://localhost:8080/"
        },
        "outputId": "3b3b061f-c2d7-467b-f174-4850b9e247a1"
      },
      "execution_count": 1,
      "outputs": [
        {
          "output_type": "stream",
          "name": "stdout",
          "text": [
            "Looking in indexes: https://pypi.org/simple, https://us-python.pkg.dev/colab-wheels/public/simple/\n",
            "Requirement already satisfied: textblob in /usr/local/lib/python3.9/dist-packages (0.17.1)\n",
            "Requirement already satisfied: nltk>=3.1 in /usr/local/lib/python3.9/dist-packages (from textblob) (3.8.1)\n",
            "Requirement already satisfied: click in /usr/local/lib/python3.9/dist-packages (from nltk>=3.1->textblob) (8.1.3)\n",
            "Requirement already satisfied: regex>=2021.8.3 in /usr/local/lib/python3.9/dist-packages (from nltk>=3.1->textblob) (2022.10.31)\n",
            "Requirement already satisfied: joblib in /usr/local/lib/python3.9/dist-packages (from nltk>=3.1->textblob) (1.2.0)\n",
            "Requirement already satisfied: tqdm in /usr/local/lib/python3.9/dist-packages (from nltk>=3.1->textblob) (4.65.0)\n",
            "Looking in indexes: https://pypi.org/simple, https://us-python.pkg.dev/colab-wheels/public/simple/\n",
            "Requirement already satisfied: textblob-fr in /usr/local/lib/python3.9/dist-packages (0.2.0)\n",
            "Requirement already satisfied: textblob>=0.8.0 in /usr/local/lib/python3.9/dist-packages (from textblob-fr) (0.17.1)\n",
            "Requirement already satisfied: nltk>=3.1 in /usr/local/lib/python3.9/dist-packages (from textblob>=0.8.0->textblob-fr) (3.8.1)\n",
            "Requirement already satisfied: joblib in /usr/local/lib/python3.9/dist-packages (from nltk>=3.1->textblob>=0.8.0->textblob-fr) (1.2.0)\n",
            "Requirement already satisfied: click in /usr/local/lib/python3.9/dist-packages (from nltk>=3.1->textblob>=0.8.0->textblob-fr) (8.1.3)\n",
            "Requirement already satisfied: regex>=2021.8.3 in /usr/local/lib/python3.9/dist-packages (from nltk>=3.1->textblob>=0.8.0->textblob-fr) (2022.10.31)\n",
            "Requirement already satisfied: tqdm in /usr/local/lib/python3.9/dist-packages (from nltk>=3.1->textblob>=0.8.0->textblob-fr) (4.65.0)\n"
          ]
        }
      ]
    },
    {
      "cell_type": "markdown",
      "source": [
        "# **2. Code for sentiment analysis**"
      ],
      "metadata": {
        "id": "-RBWBaRlQxtZ"
      }
    },
    {
      "cell_type": "code",
      "source": [
        "# Set the language of the input text\n",
        "while True:\n",
        "    language = input(\"Enter the language of the input text (fr/en): \")\n",
        "    if language.lower() in [\"fr\", \"en\"]:\n",
        "        break\n",
        "    print(\"Invalid language entered. Please enter either 'fr' for French or 'en' for English.\")\n",
        "\n",
        "# Initialize the sentiment analyzer\n",
        "if language.lower() == \"fr\":\n",
        "    analyzer = PatternAnalyzer()\n",
        "else:\n",
        "    analyzer = None\n",
        "\n",
        "# Get input text from the user\n",
        "text = input(\"Enter some text to analyze (separate phrases/paragraphs by newline or '.'): \")\n",
        "\n",
        "# Analyze the sentiment of each phrase or paragraph\n",
        "phrases = text.split('\\n')\n",
        "for i, phrase in enumerate(phrases):\n",
        "    if phrase.strip() == \"\":\n",
        "        continue\n",
        "    if language.lower() == \"fr\":\n",
        "        blob = TextBlob(phrase, pos_tagger=PatternTagger(), analyzer=analyzer)\n",
        "    else:\n",
        "        blob = TextBlob(phrase, analyzer=analyzer)\n",
        "    sentiment = blob.sentiment\n",
        "\n",
        "    # Customize sentiment analysis thresholds (optional)\n",
        "    polarity_threshold = 0.1\n",
        "    subjectivity_threshold = 0.5\n",
        "    if sentiment[0] > polarity_threshold:\n",
        "        polarity_label = \"Positive\"\n",
        "        polarity_explanation = \"The opinion expressed in the text is generally positive.\"\n",
        "    elif sentiment[0] < -polarity_threshold:\n",
        "        polarity_label = \"Negative\"\n",
        "        polarity_explanation = \"The opinion expressed in the text is generally negative.\"\n",
        "    else:\n",
        "        polarity_label = \"Neutral\"\n",
        "        polarity_explanation = \"The text expresses a neutral opinion.\"\n",
        "\n",
        "    if sentiment[1] > subjectivity_threshold:\n",
        "        subjectivity_label = \"Subjective\"\n",
        "        subjectivity_explanation = \"The opinion expressed in the text is based on personal feelings or opinions.\"\n",
        "    else:\n",
        "        subjectivity_label = \"Objective\"\n",
        "        subjectivity_explanation = \"The opinion expressed in the text is based on objective facts or observations.\"\n",
        "\n",
        "    # Print the sentiment scores and explanations for each phrase or paragraph\n",
        "    print(f\"\\nSENTIMENT ANALYSIS RESULTS FOR PHRASE/PARAGRAPH {i+1}:\")\n",
        "    print(f\"Input text: {phrase}\\n\")\n",
        "    print(\"\\033[1mPolarity (positive/negative opinion):\\033[0m\")\n",
        "    print(\"\\033[1mA value of 0 means neutral, a value > 0 means positive, and a value < 0 means negative.\\033[0m\")\n",
        "    print(f\"Value: {sentiment[0]:.2f} ({polarity_label})\")\n",
        "    print(polarity_explanation + \"\\n\")\n",
        "    print(\"\\033[1mSubjectivity (personal/objective opinion):\\033[0m\")\n",
        "    print(\"\\033[1mA value of 0 means objective, and a value of 1 means very subjective.\\033[0m\")\n",
        "    print(f\"Value: {sentiment[1]:.2f} ({subjectivity_label})\")\n",
        "    print(subjectivity_explanation)"
      ],
      "metadata": {
        "colab": {
          "base_uri": "https://localhost:8080/"
        },
        "id": "5S9HIxFVOz-_",
        "outputId": "7fa94437-cfca-4c45-a883-e31bd72ab5d4"
      },
      "execution_count": 2,
      "outputs": [
        {
          "output_type": "stream",
          "name": "stdout",
          "text": [
            "Enter the language of the input text (fr/en): en\n",
            "Enter some text to analyze (separate phrases/paragraphs by newline or '.'): I'm an happy Python Developer\n",
            "\n",
            "SENTIMENT ANALYSIS RESULTS FOR PHRASE/PARAGRAPH 1:\n",
            "Input text: I'm an happy Python Developer\n",
            "\n",
            "\u001b[1mPolarity (positive/negative opinion):\u001b[0m\n",
            "\u001b[1mA value of 0 means neutral, a value > 0 means positive, and a value < 0 means negative.\u001b[0m\n",
            "Value: 0.80 (Positive)\n",
            "The opinion expressed in the text is generally positive.\n",
            "\n",
            "\u001b[1mSubjectivity (personal/objective opinion):\u001b[0m\n",
            "\u001b[1mA value of 0 means objective, and a value of 1 means very subjective.\u001b[0m\n",
            "Value: 1.00 (Subjective)\n",
            "The opinion expressed in the text is based on personal feelings or opinions.\n"
          ]
        }
      ]
    }
  ]
}