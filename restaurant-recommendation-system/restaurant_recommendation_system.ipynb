{
  "nbformat": 4,
  "nbformat_minor": 0,
  "metadata": {
    "colab": {
      "provenance": [],
      "authorship_tag": "ABX9TyPWNhv/4kusMtyGTWNHU/hZ"
    },
    "kernelspec": {
      "name": "python3",
      "display_name": "Python 3"
    },
    "language_info": {
      "name": "python"
    }
  },
  "cells": [
    {
      "cell_type": "markdown",
      "source": [
        "# **1. Import necessary libraries**"
      ],
      "metadata": {
        "id": "2JjZOjazkBKp"
      }
    },
    {
      "cell_type": "code",
      "source": [
        "# Import necessary libraries\n",
        "import numpy as np\n",
        "import pandas as pd\n",
        "from sklearn.feature_extraction.text import TfidfVectorizer\n",
        "from sklearn.metrics.pairwise import cosine_similarity"
      ],
      "metadata": {
        "id": "LQruiGPtioT7"
      },
      "execution_count": 1,
      "outputs": []
    },
    {
      "cell_type": "markdown",
      "source": [
        "# **2. Load the dataset and display basic information**"
      ],
      "metadata": {
        "id": "g903cjc3kBvA"
      }
    },
    {
      "cell_type": "code",
      "source": [
        "# Load the dataset\n",
        "data = pd.read_csv(\"TripAdvisor_RestaurantRecommendation.csv\")\n",
        "print(data.head())"
      ],
      "metadata": {
        "colab": {
          "base_uri": "https://localhost:8080/"
        },
        "id": "1FFJm1GBiq5x",
        "outputId": "c3ea0194-08f0-4fee-f263-7f2511cde67b"
      },
      "execution_count": 2,
      "outputs": [
        {
          "output_type": "stream",
          "name": "stdout",
          "text": [
            "                            Name       Street Address  \\\n",
            "0  Betty Lou's Seafood and Grill     318 Columbus Ave   \n",
            "1              Coach House Diner        55 State Rt 4   \n",
            "2               Table Talk Diner  2521 South Rd Ste C   \n",
            "3                    Sixty Vines     3701 Dallas Pkwy   \n",
            "4                   The Clam Bar    3914 Brewerton Rd   \n",
            "\n",
            "                       Location                                          Type  \\\n",
            "0  San Francisco, CA 94133-3908   Seafood, Vegetarian Friendly, Vegan Options   \n",
            "1     Hackensack, NJ 07601-6337          Diner, American, Vegetarian Friendly   \n",
            "2   Poughkeepsie, NY 12601-5476          American, Diner, Vegetarian Friendly   \n",
            "3          Plano, TX 75093-7777       American, Wine Bar, Vegetarian Friendly   \n",
            "4            Syracuse, NY 13212                        American, Bar, Seafood   \n",
            "\n",
            "            Reviews No of Reviews  \\\n",
            "0  4.5 of 5 bubbles   243 reviews   \n",
            "1    4 of 5 bubbles    84 reviews   \n",
            "2    4 of 5 bubbles   256 reviews   \n",
            "3  4.5 of 5 bubbles   235 reviews   \n",
            "4    4 of 5 bubbles   285 reviews   \n",
            "\n",
            "                                            Comments   Contact Number  \\\n",
            "0                                                NaN  +1 415-757-0569   \n",
            "1  Both times we were there very late, after 11 P...  +1 201-488-4999   \n",
            "2  Waitress was very friendly but a little pricey...  +1 845-849-2839   \n",
            "3  Not sure why I went there for the second time....  +1 469-620-8463   \n",
            "4  Doesn't look like much from the outside but wa...  +1 315-458-1662   \n",
            "\n",
            "                                    Trip_advisor Url  \\\n",
            "0  https://www.tripadvisor.com//Restaurant_Review...   \n",
            "1  https://www.tripadvisor.com//Restaurant_Review...   \n",
            "2  https://www.tripadvisor.com//Restaurant_Review...   \n",
            "3  https://www.tripadvisor.com//Restaurant_Review...   \n",
            "4  https://www.tripadvisor.com//Restaurant_Review...   \n",
            "\n",
            "                                        Menu Price_Range  \n",
            "0               Check The Website for a Menu    $$ - $$$  \n",
            "1               Check The Website for a Menu    $$ - $$$  \n",
            "2  http://tabletalkdiner.com/menu/breakfast/    $$ - $$$  \n",
            "3      https://sixtyvines.com/menu/plano-tx/    $$ - $$$  \n",
            "4               Check The Website for a Menu    $$ - $$$  \n"
          ]
        }
      ]
    },
    {
      "cell_type": "code",
      "source": [
        "# Print dataset information\n",
        "print(\"Dataset Information:\\n\")\n",
        "print(f\"Number of rows: {data.shape[0]}\")\n",
        "print(f\"Number of columns: {data.shape[1]}\")\n",
        "print(f\"\\nColumns:\\n{', '.join(data.columns)}\")\n",
        "print(f\"\\nData Types:\\n{data.dtypes}\\n\")\n",
        "\n",
        "# Print summary statistics\n",
        "print(\"Summary Statistics:\\n\")\n",
        "print(data.describe().to_string())"
      ],
      "metadata": {
        "colab": {
          "base_uri": "https://localhost:8080/"
        },
        "id": "i-51fFOjisyP",
        "outputId": "b518dc6d-af42-4fe7-a2d8-947feb55c749"
      },
      "execution_count": 3,
      "outputs": [
        {
          "output_type": "stream",
          "name": "stdout",
          "text": [
            "Dataset Information:\n",
            "\n",
            "Number of rows: 3062\n",
            "Number of columns: 11\n",
            "\n",
            "Columns:\n",
            "Name, Street Address, Location, Type, Reviews, No of Reviews, Comments, Contact Number, Trip_advisor Url, Menu, Price_Range\n",
            "\n",
            "Data Types:\n",
            "Name                object\n",
            "Street Address      object\n",
            "Location            object\n",
            "Type                object\n",
            "Reviews             object\n",
            "No of Reviews       object\n",
            "Comments            object\n",
            "Contact Number      object\n",
            "Trip_advisor Url    object\n",
            "Menu                object\n",
            "Price_Range         object\n",
            "dtype: object\n",
            "\n",
            "Summary Statistics:\n",
            "\n",
            "                   Name   Street Address                   Location                                          Type           Reviews No of Reviews                                                                                                                                                                                               Comments Contact Number                                                                                                       Trip_advisor Url                          Menu Price_Range\n",
            "count              3062             3062                       3062                                          3049              3062          3062                                                                                                                                                                                                   2447           3062                                                                                                                   3062                          3062        3062\n",
            "unique             2641             2814                       2653                                           669                 6           811                                                                                                                                                                                                   2291           2850                                                                                                                   2886                           705           6\n",
            "top     Texas Roadhouse  3333 Bristol St  Costa Mesa, CA 92626-1873   Italian, Vegetarian Friendly, Vegan Options  4.5 of 5 bubbles    58 reviews  The most warn and welcoming environment, Excellent customer service, The  food was delicious and authentic.If you enjoy great Italian food with wonderful hospitality then this is the place for you.  Not Available  https://www.tripadvisor.com//Restaurant_Review-g47626-d458328-Reviews-Jackson_Hole-East_Elmhurst_Queens_New_York.html  Check The Website for a Menu    $$ - $$$\n",
            "freq                 13                8                          8                                           137              1956            18                                                                                                                                                                                                      4             19                                                                                                                      4                          2253        2385\n"
          ]
        }
      ]
    },
    {
      "cell_type": "markdown",
      "source": [
        "# **3. Preprocess the data**"
      ],
      "metadata": {
        "id": "tuW6qfU0kH2I"
      }
    },
    {
      "cell_type": "code",
      "source": [
        "# Select relevant columns\n",
        "data = data[[\"Name\", \"Type\"]]\n",
        "print(data.head())"
      ],
      "metadata": {
        "colab": {
          "base_uri": "https://localhost:8080/"
        },
        "id": "6oDtUU_4iwMx",
        "outputId": "76b9c0de-8bd8-498e-c4c0-d6365b80312c"
      },
      "execution_count": 4,
      "outputs": [
        {
          "output_type": "stream",
          "name": "stdout",
          "text": [
            "                            Name                                          Type\n",
            "0  Betty Lou's Seafood and Grill   Seafood, Vegetarian Friendly, Vegan Options\n",
            "1              Coach House Diner          Diner, American, Vegetarian Friendly\n",
            "2               Table Talk Diner          American, Diner, Vegetarian Friendly\n",
            "3                    Sixty Vines       American, Wine Bar, Vegetarian Friendly\n",
            "4                   The Clam Bar                        American, Bar, Seafood\n"
          ]
        }
      ]
    },
    {
      "cell_type": "code",
      "source": [
        "# Check for missing values\n",
        "print(data.isnull().sum())"
      ],
      "metadata": {
        "colab": {
          "base_uri": "https://localhost:8080/"
        },
        "id": "4iiDVgJhi0CU",
        "outputId": "c1c80720-8b8c-4cf4-d847-614db92a1390"
      },
      "execution_count": 5,
      "outputs": [
        {
          "output_type": "stream",
          "name": "stdout",
          "text": [
            "Name     0\n",
            "Type    13\n",
            "dtype: int64\n"
          ]
        }
      ]
    },
    {
      "cell_type": "code",
      "source": [
        "# Drop rows with missing values\n",
        "data = data.dropna()"
      ],
      "metadata": {
        "id": "rIdwuU-Ei3Qa"
      },
      "execution_count": 6,
      "outputs": []
    },
    {
      "cell_type": "markdown",
      "source": [
        "# **4. Compute the similarity matrix and create a reverse mapping of restaurant names and DataFrame indices**"
      ],
      "metadata": {
        "id": "IdSYwChGkIw4"
      }
    },
    {
      "cell_type": "code",
      "source": [
        "# Initialize the TfidfVectorizer and fit_transform the 'Type' column\n",
        "tfidf = TfidfVectorizer(stop_words=\"english\")\n",
        "tfidf_matrix = tfidf.fit_transform(data[\"Type\"])\n",
        "\n",
        "# Compute the cosine similarity matrix\n",
        "similarity = cosine_similarity(tfidf_matrix)"
      ],
      "metadata": {
        "id": "C-8iZ_twi5TK"
      },
      "execution_count": 7,
      "outputs": []
    },
    {
      "cell_type": "code",
      "source": [
        "# Create a reverse mapping of restaurant names and DataFrame indices\n",
        "indices = pd.Series(data.index, index=data['Name']).drop_duplicates()"
      ],
      "metadata": {
        "id": "J9AtXOw1i9HG"
      },
      "execution_count": 8,
      "outputs": []
    },
    {
      "cell_type": "markdown",
      "source": [
        "# **5. Define the restaurant recommendation function and test the recommendation function**"
      ],
      "metadata": {
        "id": "NuC0E26slqyJ"
      }
    },
    {
      "cell_type": "code",
      "source": [
        "# Define the restaurant recommendation function\n",
        "def restaurant_recommendation(name, similarity=similarity, indices=indices):\n",
        "    if name not in indices:\n",
        "        print(f\"The restaurant '{name}' is not found in the dataset. Please try again with a valid restaurant name.\")\n",
        "        return None\n",
        "    index = indices[name]\n",
        "    similarity_scores = list(enumerate(similarity[index]))\n",
        "    similarity_scores = sorted(similarity_scores, key=lambda x: x[1], reverse=True)\n",
        "    similarity_scores = similarity_scores[1:11] # Exclude the restaurant itself\n",
        "    restaurant_indices = [i[0] for i in similarity_scores]\n",
        "    return data['Name'].iloc[restaurant_indices]"
      ],
      "metadata": {
        "id": "FPbzsXs1i_c_"
      },
      "execution_count": 9,
      "outputs": []
    },
    {
      "cell_type": "code",
      "source": [
        "# Test the recommendation function\n",
        "print(\"Recommended restaurants similar to 'Sixty Vines':\\n\", restaurant_recommendation(\"Sixty Vines\"))"
      ],
      "metadata": {
        "colab": {
          "base_uri": "https://localhost:8080/"
        },
        "id": "Ttf1u7RjjBuW",
        "outputId": "589e5075-8e9b-4c8b-b883-2d488eb8c1a5"
      },
      "execution_count": 10,
      "outputs": [
        {
          "output_type": "stream",
          "name": "stdout",
          "text": [
            "Recommended restaurants similar to 'Sixty Vines':\n",
            " 85                             Seasons 52\n",
            "553                        Brix Wine Cafe\n",
            "636          Red House Beer & Wine Shoppe\n",
            "825                       Wink Restaurant\n",
            "2616      Thirsty Owl Wine Bar and Bistro\n",
            "2633                       The River Cafe\n",
            "2994                       Swing Wine Bar\n",
            "529                         CUCINA urbana\n",
            "737     Bellanico Restaurant and Wine Bar\n",
            "1341    Spuntino Wine Bar & Italian Tapas\n",
            "Name: Name, dtype: object\n"
          ]
        }
      ]
    }
  ]
}